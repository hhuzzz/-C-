{
 "cells": [
  {
   "cell_type": "code",
   "execution_count": 1,
   "id": "3afaf53d",
   "metadata": {},
   "outputs": [],
   "source": [
    "import pandas as pd"
   ]
  },
  {
   "cell_type": "code",
   "execution_count": 2,
   "id": "c0472d1c",
   "metadata": {},
   "outputs": [],
   "source": [
    "data=pd.read_csv('data.csv')"
   ]
  },
  {
   "cell_type": "code",
   "execution_count": 3,
   "id": "b3e744cd",
   "metadata": {},
   "outputs": [
    {
     "data": {
      "text/plain": [
       "0        0.028849\n",
       "1        0.031419\n",
       "2        0.035535\n",
       "3        0.040015\n",
       "4        0.045028\n",
       "           ...   \n",
       "12395    0.034867\n",
       "12396    0.038341\n",
       "12397    0.048877\n",
       "12398    0.054889\n",
       "12399    0.069135\n",
       "Name: 磁通密度峰值, Length: 12400, dtype: float64"
      ]
     },
     "execution_count": 3,
     "metadata": {},
     "output_type": "execute_result"
    }
   ],
   "source": [
    "import seaborn as sns\n",
    "import numpy as np\n",
    "import matplotlib.pyplot as plt\n",
    "import warnings\n",
    "warnings.filterwarnings('ignore')\n",
    "%matplotlib inline\n",
    "subset = data.iloc[:, 5:]\n",
    "\n",
    "# 计算每行的最大值并形成新的一列\n",
    "data['磁通密度峰值'] = subset.max(axis=1)\n",
    "# 输出结果\n",
    "data['磁通密度峰值']"
   ]
  },
  {
   "cell_type": "code",
   "execution_count": 4,
   "id": "6206bcdb",
   "metadata": {},
   "outputs": [],
   "source": [
    "X=pd.concat([pd.get_dummies(data[['磁芯材料', '温度，oC','励磁波形']]).reset_index(drop=True),data[['频率，Hz','磁通密度峰值']].reset_index(drop=True)],axis=1)\n",
    "\n",
    "Y = data['磁芯损耗，w/m3'].copy()"
   ]
  },
  {
   "cell_type": "code",
   "execution_count": 5,
   "id": "bba9f89c",
   "metadata": {
    "scrolled": true
   },
   "outputs": [
    {
     "data": {
      "text/plain": [
       "DecisionTreeRegressor(random_state=42)"
      ]
     },
     "execution_count": 5,
     "metadata": {},
     "output_type": "execute_result"
    }
   ],
   "source": [
    "from sklearn.tree import DecisionTreeRegressor\n",
    "model=DecisionTreeRegressor(random_state=42)\n",
    "model.fit(X, Y)"
   ]
  },
  {
   "cell_type": "code",
   "execution_count": 6,
   "id": "d2badf6e",
   "metadata": {},
   "outputs": [
    {
     "data": {
      "text/plain": [
       "Index(['温度，oC', '磁芯材料_材料1', '磁芯材料_材料2', '磁芯材料_材料3', '磁芯材料_材料4', '励磁波形_三角波',\n",
       "       '励磁波形_梯形波', '励磁波形_正弦波', '频率，Hz', '磁通密度峰值'],\n",
       "      dtype='object')"
      ]
     },
     "execution_count": 6,
     "metadata": {},
     "output_type": "execute_result"
    }
   ],
   "source": [
    "X.columns"
   ]
  },
  {
   "cell_type": "code",
   "execution_count": 7,
   "id": "c7794649",
   "metadata": {},
   "outputs": [],
   "source": [
    "Y_pred = model.predict(X)"
   ]
  },
  {
   "cell_type": "code",
   "execution_count": 8,
   "id": "6f5f8620",
   "metadata": {},
   "outputs": [],
   "source": [
    "df=pd.DataFrame()"
   ]
  },
  {
   "cell_type": "code",
   "execution_count": 9,
   "id": "01a5091b",
   "metadata": {},
   "outputs": [],
   "source": [
    "df['传输磁能']=X['频率，Hz']*X['磁通密度峰值']"
   ]
  },
  {
   "cell_type": "code",
   "execution_count": 10,
   "id": "1536ce8e",
   "metadata": {},
   "outputs": [
    {
     "data": {
      "text/plain": [
       "Index(['温度，oC', '磁芯材料_材料1', '磁芯材料_材料2', '磁芯材料_材料3', '磁芯材料_材料4', '励磁波形_三角波',\n",
       "       '励磁波形_梯形波', '励磁波形_正弦波', '频率，Hz', '磁通密度峰值'],\n",
       "      dtype='object')"
      ]
     },
     "execution_count": 10,
     "metadata": {},
     "output_type": "execute_result"
    }
   ],
   "source": [
    "X.columns"
   ]
  },
  {
   "cell_type": "code",
   "execution_count": 11,
   "id": "19655e3b",
   "metadata": {},
   "outputs": [],
   "source": [
    "# '温度，oC'：[25, 50, 70, 90]\n",
    "#  '磁芯材料_材料1', '磁芯材料_材料2', '磁芯材料_材料3', '磁芯材料_材料4', '励磁波形_三角波',\n",
    "#        '励磁波形_梯形波', '励磁波形_正弦波':[1,0]\n",
    "# '频率，Hz':[49990，501180]\n",
    "\n",
    "# '磁通密度峰值':[0.00963815，0.313284469]"
   ]
  },
  {
   "cell_type": "code",
   "execution_count": 12,
   "id": "d91441c3",
   "metadata": {},
   "outputs": [
    {
     "data": {
      "text/plain": [
       "0.313284469"
      ]
     },
     "execution_count": 12,
     "metadata": {},
     "output_type": "execute_result"
    }
   ],
   "source": [
    "X['磁通密度峰值'].max()"
   ]
  },
  {
   "cell_type": "code",
   "execution_count": 13,
   "id": "a7d869a0",
   "metadata": {},
   "outputs": [
    {
     "data": {
      "text/plain": [
       "0.00963815"
      ]
     },
     "execution_count": 13,
     "metadata": {},
     "output_type": "execute_result"
    }
   ],
   "source": [
    "X['磁通密度峰值'].min()"
   ]
  },
  {
   "cell_type": "code",
   "execution_count": 14,
   "id": "75f0137e",
   "metadata": {},
   "outputs": [],
   "source": [
    "#分析在什么条件下（温度、频率、波形、磁通密度峰值及磁芯材料），能达到最小的磁芯损耗以及具有最大的传输磁能"
   ]
  },
  {
   "cell_type": "code",
   "execution_count": 15,
   "id": "025cb289",
   "metadata": {},
   "outputs": [
    {
     "name": "stdout",
     "output_type": "stream",
     "text": [
      "第 0 代：最佳适应度 = 1806.359470\n",
      "第 1 代：最佳适应度 = 1781.271841\n",
      "第 2 代：最佳适应度 = 1625.698544\n",
      "第 3 代：最佳适应度 = 1625.698544\n",
      "第 4 代：最佳适应度 = 1625.698544\n",
      "第 5 代：最佳适应度 = 1625.698544\n",
      "第 6 代：最佳适应度 = 1625.698544\n",
      "第 7 代：最佳适应度 = 1625.698544\n",
      "第 8 代：最佳适应度 = 1625.698544\n",
      "第 9 代：最佳适应度 = 1625.698544\n",
      "第 10 代：最佳适应度 = 1625.698544\n",
      "第 11 代：最佳适应度 = 1625.698544\n",
      "第 12 代：最佳适应度 = 1625.698544\n",
      "第 13 代：最佳适应度 = 1625.698544\n",
      "第 14 代：最佳适应度 = 1625.698544\n",
      "第 15 代：最佳适应度 = 1625.698544\n",
      "第 16 代：最佳适应度 = 1625.698544\n",
      "第 17 代：最佳适应度 = 1625.698544\n",
      "第 18 代：最佳适应度 = 1625.698544\n",
      "第 19 代：最佳适应度 = 1625.698544\n",
      "第 20 代：最佳适应度 = 1625.698544\n",
      "第 21 代：最佳适应度 = 1625.698544\n",
      "第 22 代：最佳适应度 = 1625.698544\n",
      "第 23 代：最佳适应度 = 1625.698544\n",
      "第 24 代：最佳适应度 = 1625.698544\n",
      "第 25 代：最佳适应度 = 1625.698544\n",
      "第 26 代：最佳适应度 = 1625.698544\n",
      "第 27 代：最佳适应度 = 1625.698544\n",
      "第 28 代：最佳适应度 = 1625.698544\n",
      "第 29 代：最佳适应度 = 1625.698544\n",
      "第 30 代：最佳适应度 = 1625.698544\n",
      "第 31 代：最佳适应度 = 1625.698544\n",
      "第 32 代：最佳适应度 = 1625.698544\n",
      "第 33 代：最佳适应度 = 1625.698544\n",
      "第 34 代：最佳适应度 = 1625.698544\n",
      "第 35 代：最佳适应度 = 1625.698544\n",
      "第 36 代：最佳适应度 = 1625.698544\n",
      "第 37 代：最佳适应度 = 1625.698544\n",
      "第 38 代：最佳适应度 = 1625.698544\n",
      "第 39 代：最佳适应度 = 1625.698544\n",
      "第 40 代：最佳适应度 = 1625.698544\n",
      "第 41 代：最佳适应度 = 1625.698544\n",
      "第 42 代：最佳适应度 = 1625.698544\n",
      "第 43 代：最佳适应度 = 1625.698544\n",
      "第 44 代：最佳适应度 = 1625.698544\n",
      "第 45 代：最佳适应度 = 1625.698544\n",
      "第 46 代：最佳适应度 = 1625.698544\n",
      "第 47 代：最佳适应度 = 1625.698544\n",
      "第 48 代：最佳适应度 = 1625.698544\n",
      "第 49 代：最佳适应度 = 1625.698544\n"
     ]
    },
    {
     "data": {
      "image/png": "[encoded data removed]",
      "text/plain": [
       "<Figure size 864x432 with 1 Axes>"
      ]
     },
     "metadata": {},
     "output_type": "display_data"
    },
    {
     "name": "stdout",
     "output_type": "stream",
     "text": [
      "\n",
      "最佳条件：\n",
      "温度，oC: 90\n",
      "磁芯材料: 材料1\n",
      "励磁波形: 三角波\n",
      "频率，Hz: 384961.2978544781\n",
      "磁通密度峰值: 0.313284469\n"
     ]
    }
   ],
   "source": [
    "import pandas as pd\n",
    "import numpy as np\n",
    "import random\n",
    "from deap import base, creator, tools, algorithms\n",
    "import matplotlib.pyplot as plt\n",
    "import seaborn as sns\n",
    "from matplotlib import style\n",
    "style.use('ggplot')\n",
    "import matplotlib.pyplot as plt\n",
    "import seaborn as sns\n",
    "\n",
    "plt.rcParams['font.sans-serif']=['SimHei'] # 中文支持\n",
    "plt.rcParams['axes.unicode_minus']=False\n",
    "\n",
    "\n",
    "# 定义\n",
    "temperatures = [25, 50, 70, 90]\n",
    "materials = ['材料1', '材料2', '材料3', '材料4']\n",
    "waveforms = ['三角波', '梯形波', '正弦波']\n",
    "freq_min, freq_max = 49990, 501180\n",
    "flux_density_min, flux_density_max = 0.00963815, 0.313284469\n",
    "\n",
    "# 设置遗传算法（GA）\n",
    "creator.create(\"FitnessMin\", base.Fitness, weights=(-1.0,))  # 最小化核损耗\n",
    "creator.create(\"Individual\", list, fitness=creator.FitnessMin)\n",
    "\n",
    "toolbox = base.Toolbox()\n",
    "\n",
    "# 属性生成器\n",
    "toolbox.register(\"attr_temperature\", random.randint, 0, len(temperatures)-1)\n",
    "toolbox.register(\"attr_material\", random.randint, 0, len(materials)-1)\n",
    "toolbox.register(\"attr_waveform\", random.randint, 0, len(waveforms)-1)\n",
    "toolbox.register(\"attr_frequency\", random.uniform, freq_min, freq_max)\n",
    "toolbox.register(\"attr_flux_density\", random.uniform, flux_density_min, flux_density_max)\n",
    "\n",
    "# 结构初始化器\n",
    "toolbox.register(\"individual\", tools.initCycle, creator.Individual,\n",
    "                 (toolbox.attr_temperature, toolbox.attr_material, toolbox.attr_waveform,\n",
    "                  toolbox.attr_frequency, toolbox.attr_flux_density), n=1)\n",
    "toolbox.register(\"population\", tools.initRepeat, list, toolbox.individual)\n",
    "\n",
    "# 评估函数\n",
    "def evaluate(individual):\n",
    "    temp_idx, mat_idx, wave_idx, freq, flux_density = individual\n",
    "\n",
    "    # 确保索引是整数\n",
    "    temp_idx = int(round(temp_idx))\n",
    "    mat_idx = int(round(mat_idx))\n",
    "    wave_idx = int(round(wave_idx))\n",
    "\n",
    "    # 准备输入数据\n",
    "    data = {\n",
    "        '温度，oC': [temperatures[temp_idx]],\n",
    "        '频率，Hz': [freq],\n",
    "        '磁通密度峰值': [flux_density],\n",
    "        '磁芯材料_材料1': [1 if mat_idx == 0 else 0],\n",
    "        '磁芯材料_材料2': [1 if mat_idx == 1 else 0],\n",
    "        '磁芯材料_材料3': [1 if mat_idx == 2 else 0],\n",
    "        '磁芯材料_材料4': [1 if mat_idx == 3 else 0],\n",
    "        '励磁波形_三角波': [1 if wave_idx == 0 else 0],\n",
    "        '励磁波形_梯形波': [1 if wave_idx == 1 else 0],\n",
    "        '励磁波形_正弦波': [1 if wave_idx == 2 else 0]\n",
    "    }\n",
    "    X = pd.DataFrame(data)\n",
    "\n",
    "    # 预测核损耗\n",
    "    core_loss = model.predict(X)[0]\n",
    "\n",
    "    # 传递的磁能与峰值磁通密度成正比\n",
    "    transmitted_energy = flux_density\n",
    "\n",
    "    # 目标：最小化核损耗，最大化传递的磁能\n",
    "    # 为简化，定义一个目标函数，将二者结合\n",
    "    # 使用核损耗与传递能量的比值，添加一个很小的 epsilon 以避免除以零\n",
    "    epsilon = 1e-6\n",
    "    objective = core_loss / (transmitted_energy + epsilon)\n",
    "\n",
    "    return (objective,)\n",
    "\n",
    "toolbox.register(\"evaluate\", evaluate)\n",
    "\n",
    "# 自定义交叉操作\n",
    "def custom_crossover(ind1, ind2):\n",
    "    # 对整数变量（索引 0-2）进行交换\n",
    "    for i in [0,1,2]:\n",
    "        if random.random() < 0.5:\n",
    "            ind1[i], ind2[i] = ind2[i], ind1[i]\n",
    "    # 对连续变量（索引 3,4）使用混合交叉\n",
    "    alpha = 0.5\n",
    "    for i in [3,4]:\n",
    "        gamma = (1. + 2. * alpha) * random.random() - alpha\n",
    "        val1 = ind1[i]\n",
    "        val2 = ind2[i]\n",
    "        ind1[i] = (1. - gamma) * val1 + gamma * val2\n",
    "        ind2[i] = gamma * val1 + (1. - gamma) * val2\n",
    "        # 确保变量在范围内\n",
    "        if i == 3:\n",
    "            ind1[i] = min(max(ind1[i], freq_min), freq_max)\n",
    "            ind2[i] = min(max(ind2[i], freq_min), freq_max)\n",
    "        elif i == 4:\n",
    "            ind1[i] = min(max(ind1[i], flux_density_min), flux_density_max)\n",
    "            ind2[i] = min(max(ind2[i], flux_density_min), flux_density_max)\n",
    "    return ind1, ind2\n",
    "\n",
    "toolbox.register(\"mate\", custom_crossover)\n",
    "\n",
    "# 自定义突变操作\n",
    "def custom_mutate(individual, indpb):\n",
    "    # 突变温度索引\n",
    "    if random.random() < indpb:\n",
    "        individual[0] = random.randint(0, len(temperatures)-1)\n",
    "    # 突变材料索引\n",
    "    if random.random() < indpb:\n",
    "        individual[1] = random.randint(0, len(materials)-1)\n",
    "    # 突变波形索引\n",
    "    if random.random() < indpb:\n",
    "        individual[2] = random.randint(0, len(waveforms)-1)\n",
    "    # 突变频率\n",
    "    if random.random() < indpb:\n",
    "        individual[3] += random.gauss(0, (freq_max - freq_min) * 0.1)\n",
    "        # 确保在范围内\n",
    "        individual[3] = min(max(individual[3], freq_min), freq_max)\n",
    "    # 突变磁通密度\n",
    "    if random.random() < indpb:\n",
    "        individual[4] += random.gauss(0, (flux_density_max - flux_density_min) * 0.1)\n",
    "        # 确保在范围内\n",
    "        individual[4] = min(max(individual[4], flux_density_min), flux_density_max)\n",
    "    return individual,\n",
    "\n",
    "toolbox.register(\"mutate\", custom_mutate, indpb=0.2)\n",
    "toolbox.register(\"select\", tools.selTournament, tournsize=3)\n",
    "\n",
    "# 运行遗传算法（GA）\n",
    "population = toolbox.population(n=100)\n",
    "NGEN = 50\n",
    "best_individuals = []\n",
    "fitness_values = []\n",
    "\n",
    "for gen in range(NGEN):\n",
    "    # 克隆种群\n",
    "    offspring = list(map(toolbox.clone, population))\n",
    "    # 应用交叉和突变\n",
    "    for child1, child2 in zip(offspring[::2], offspring[1::2]):\n",
    "        if random.random() < 0.5:\n",
    "            toolbox.mate(child1, child2)\n",
    "            del child1.fitness.values\n",
    "            del child2.fitness.values\n",
    "    for mutant in offspring:\n",
    "        if random.random() < 0.2:\n",
    "            toolbox.mutate(mutant)\n",
    "            del mutant.fitness.values\n",
    "\n",
    "    # 评估适应度无效的个体\n",
    "    invalid_ind = [ind for ind in offspring if not ind.fitness.valid]\n",
    "    fitnesses = toolbox.map(toolbox.evaluate, invalid_ind)\n",
    "    for ind, fit in zip(invalid_ind, fitnesses):\n",
    "        ind.fitness.values = fit\n",
    "\n",
    "    # 选择下一代种群\n",
    "    population = toolbox.select(offspring, k=len(population))\n",
    "\n",
    "    # 记录最佳个体\n",
    "    top_ind = tools.selBest(population, k=1)[0]\n",
    "    best_individuals.append(top_ind)\n",
    "    fitness_values.append(top_ind.fitness.values[0])\n",
    "    print(f\"第 {gen} 代：最佳适应度 = {top_ind.fitness.values[0]:.6f}\")\n",
    "\n",
    "# 提取用于绘图的数据\n",
    "generations = range(NGEN)\n",
    "best_fitness = fitness_values\n",
    "\n",
    "# 绘制迭代图\n",
    "plt.figure(figsize=(12, 6))\n",
    "plt.plot(generations, best_fitness, marker='o', linestyle='-', color='b')\n",
    "plt.title('核心损耗与传递磁能的优化')\n",
    "plt.xlabel('代数')\n",
    "plt.ylabel('目标函数值')\n",
    "plt.grid(True)\n",
    "plt.show()\n",
    "\n",
    "# 提取最佳个体\n",
    "best_ind = tools.selBest(population, k=1)[0]\n",
    "temp_idx, mat_idx, wave_idx, freq, flux_density = best_ind\n",
    "\n",
    "# 确保索引是整数\n",
    "temp_idx = int(round(temp_idx))\n",
    "mat_idx = int(round(mat_idx))\n",
    "wave_idx = int(round(wave_idx))\n",
    "\n",
    "optimal_conditions = {\n",
    "    '温度，oC': temperatures[temp_idx],\n",
    "    '磁芯材料': materials[mat_idx],\n",
    "    '励磁波形': waveforms[wave_idx],\n",
    "    '频率，Hz': freq,\n",
    "    '磁通密度峰值': flux_density\n",
    "}\n",
    "\n",
    "print(\"\\n最佳条件：\")\n",
    "for key, value in optimal_conditions.items():\n",
    "    print(f\"{key}: {value}\")\n",
    "\n",
    "# 可视化最终种群的参数分布\n",
    "df = pd.DataFrame([{\n",
    "    '温度，oC': temperatures[int(round(ind[0]))],\n",
    "    '磁芯材料': materials[int(round(ind[1]))],\n",
    "    '励磁波形': waveforms[int(round(ind[2]))],\n",
    "    '频率，Hz': ind[3],\n",
    "    '磁通密度峰值': ind[4],\n",
    "    '目标值': ind.fitness.values[0]\n",
    "} for ind in population])\n",
    "\n"
   ]
  },
  {
   "cell_type": "code",
   "execution_count": 16,
   "id": "0dfd7ee9",
   "metadata": {},
   "outputs": [
    {
     "name": "stdout",
     "output_type": "stream",
     "text": [
      "最佳组合的目标值为：1625.698544\n"
     ]
    }
   ],
   "source": [
    "best_fitness_value = min(fitness_values)\n",
    "print(f\"最佳组合的目标值为：{best_fitness_value:.6f}\")\n"
   ]
  },
  {
   "cell_type": "code",
   "execution_count": 17,
   "id": "0df172e0",
   "metadata": {},
   "outputs": [
    {
     "name": "stdout",
     "output_type": "stream",
     "text": [
      "最佳组合时的磁芯损耗为：509.307731\n",
      "最佳组合时的传输磁能为：0.313284\n"
     ]
    }
   ],
   "source": [
    "# 提取最佳个体\n",
    "best_ind = tools.selBest(population, k=1)[0]\n",
    "temp_idx, mat_idx, wave_idx, freq, flux_density = best_ind\n",
    "\n",
    "# 确保索引是整数\n",
    "temp_idx = int(round(temp_idx))\n",
    "mat_idx = int(round(mat_idx))\n",
    "wave_idx = int(round(wave_idx))\n",
    "\n",
    "# 创建最佳个体对应的数据\n",
    "data = {\n",
    "    '温度，oC': [temperatures[temp_idx]],\n",
    "    '频率，Hz': [freq],\n",
    "    '磁通密度峰值': [flux_density],\n",
    "    '磁芯材料_材料1': [1 if mat_idx == 0 else 0],\n",
    "    '磁芯材料_材料2': [1 if mat_idx == 1 else 0],\n",
    "    '磁芯材料_材料3': [1 if mat_idx == 2 else 0],\n",
    "    '磁芯材料_材料4': [1 if mat_idx == 3 else 0],\n",
    "    '励磁波形_三角波': [1 if wave_idx == 0 else 0],\n",
    "    '励磁波形_梯形波': [1 if wave_idx == 1 else 0],\n",
    "    '励磁波形_正弦波': [1 if wave_idx == 2 else 0]\n",
    "}\n",
    "X = pd.DataFrame(data)\n",
    "\n",
    "# 计算磁芯损耗\n",
    "core_loss = model.predict(X)[0]\n",
    "\n",
    "# 传输磁能等于峰值磁通密度\n",
    "transmitted_energy = flux_density\n",
    "\n",
    "print(f\"最佳组合时的磁芯损耗为：{core_loss:.6f}\")\n",
    "print(f\"最佳组合时的传输磁能为：{transmitted_energy:.6f}\")\n"
   ]
  },
  {
   "cell_type": "code",
   "execution_count": 36,
   "id": "190706ec",
   "metadata": {},
   "outputs": [],
   "source": [
    "# 【腾讯文档】2024华为杯研赛成品助攻预定文档\n",
    "# https://docs.qq.com/doc/DYW9LaWdDU2NDcmVD"
   ]
  },
  {
   "cell_type": "code",
   "execution_count": null,
   "id": "9276c571",
   "metadata": {},
   "outputs": [],
   "source": []
  }
 ],
 "metadata": {
  "kernelspec": {
   "display_name": "huawei",
   "language": "python",
   "name": "python3"
  },
  "language_info": {
   "codemirror_mode": {
    "name": "ipython",
    "version": 3
   },
   "file_extension": ".py",
   "mimetype": "text/x-python",
   "name": "python",
   "nbconvert_exporter": "python",
   "pygments_lexer": "ipython3",
   "version": "3.8.19"
  }
 },
 "nbformat": 4,
 "nbformat_minor": 5
}
