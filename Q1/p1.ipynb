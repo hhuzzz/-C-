{
 "cells": [
  {
   "cell_type": "code",
   "execution_count": 1,
   "metadata": {},
   "outputs": [],
   "source": [
    "import numpy as np\n",
    "import pandas as pd\n",
    "from sklearn.preprocessing import StandardScaler\n",
    "\n",
    "# 读取数据\n",
    "data = pd.read_csv('data/train.csv')\n",
    "\n",
    "# 数据预处理：提取磁通密度（1024个采样点），并进行标准化\n",
    "X_raw = data.iloc[:, 4:]\n",
    "scaler = StandardScaler()\n",
    "X_scaled = scaler.fit_transform(X_raw)\n",
    "\n",
    "# 提取波形标签\n",
    "y = data['励磁波形']"
   ]
  },
  {
   "cell_type": "code",
   "execution_count": 2,
   "metadata": {},
   "outputs": [],
   "source": [
    "from scipy.fft import fft\n",
    "import numpy as np\n",
    "\n",
    "#\t \n",
    "def extract_time_domain_features(X): \n",
    "    features = pd.DataFrame() \n",
    "    features['max'] = np.max(X, axis=1) \n",
    "    features['min'] = np.min(X, axis=1) \n",
    "    features['mean'] = np.mean(X, axis=1) \n",
    "    features['std'] = np.std(X, axis=1)\n",
    "    features['peak_to_peak'] = np.max(X, axis=1) - np.min(X, axis=1) \n",
    "    return features\n",
    "\n",
    "# 频域特征提取函数\n",
    "def extract_frequency_domain_features(X): \n",
    "    features = pd.DataFrame()\n",
    "    # 对每一行进行傅里叶变换并提取频域特征\n",
    "    fft_feature = fft(X, axis=1)\n",
    "    features['fft_max_freq'] = np.max(np.abs(fft_feature), axis=1)\n",
    "    features['fft_energy'] = np.sum(np.abs(fft_feature)**2, axis=1)\n",
    "    return features\n",
    "\n",
    "# 提取特征\n",
    "time_features = extract_time_domain_features(X_scaled)\n",
    "freq_features = extract_time_domain_features(X_scaled)\n",
    "\n",
    "# 合并所有特征\n",
    "X_features = pd.concat([time_features, freq_features], axis=1)\n"
   ]
  },
  {
   "cell_type": "code",
   "execution_count": 3,
   "metadata": {},
   "outputs": [
    {
     "name": "stdout",
     "output_type": "stream",
     "text": [
      "Selected features: Index(['max', 'min', 'mean', 'std', 'peak_to_peak', 'max', 'min', 'mean',\n",
      "       'std', 'peak_to_peak'],\n",
      "      dtype='object')\n"
     ]
    }
   ],
   "source": [
    "from sklearn.feature_selection import SelectKBest, f_classif\n",
    "\n",
    "selector = SelectKBest(f_classif, k=10)\n",
    "X_selected = selector.fit_transform(X_features, y)\n",
    "\n",
    "selected_features = X_features.columns[selector.get_support()]\n",
    "print(f\"Selected features: {selected_features}\")\n"
   ]
  },
  {
   "cell_type": "code",
   "execution_count": 4,
   "metadata": {},
   "outputs": [
    {
     "name": "stdout",
     "output_type": "stream",
     "text": [
      "Selected features: Index(['max', 'min', 'mean', 'std', 'peak_to_peak', 'max', 'min', 'mean',\n",
      "       'std', 'peak_to_peak'],\n",
      "      dtype='object')\n",
      "gen\tnevals\n",
      "0  \t20    \n"
     ]
    },
    {
     "ename": "TypeError",
     "evalue": "mutGaussian() missing 1 required positional argument: 'sigma'",
     "output_type": "error",
     "traceback": [
      "\u001b[1;31m---------------------------------------------------------------------------\u001b[0m",
      "\u001b[1;31mTypeError\u001b[0m                                 Traceback (most recent call last)",
      "Cell \u001b[1;32mIn[4], line 40\u001b[0m\n\u001b[0;32m     36\u001b[0m CXPB \u001b[38;5;241m=\u001b[39m \u001b[38;5;241m0.7\u001b[39m\n\u001b[0;32m     37\u001b[0m MUTPB \u001b[38;5;241m=\u001b[39m \u001b[38;5;241m0.2\u001b[39m\n\u001b[1;32m---> 40\u001b[0m result, logbook \u001b[38;5;241m=\u001b[39m \u001b[43malgorithms\u001b[49m\u001b[38;5;241;43m.\u001b[39;49m\u001b[43meaSimple\u001b[49m\u001b[43m(\u001b[49m\u001b[43mpopulation\u001b[49m\u001b[43m,\u001b[49m\u001b[43m \u001b[49m\u001b[43mtoolbox\u001b[49m\u001b[43m,\u001b[49m\u001b[43m \u001b[49m\u001b[43mcxpb\u001b[49m\u001b[38;5;241;43m=\u001b[39;49m\u001b[43mCXPB\u001b[49m\u001b[43m,\u001b[49m\u001b[43m \u001b[49m\u001b[43mmutpb\u001b[49m\u001b[38;5;241;43m=\u001b[39;49m\u001b[43mMUTPB\u001b[49m\u001b[43m,\u001b[49m\u001b[43m \u001b[49m\u001b[43mngen\u001b[49m\u001b[38;5;241;43m=\u001b[39;49m\u001b[43mNGEN\u001b[49m\u001b[43m,\u001b[49m\n\u001b[0;32m     41\u001b[0m \u001b[43mverbose\u001b[49m\u001b[38;5;241;43m=\u001b[39;49m\u001b[38;5;28;43;01mTrue\u001b[39;49;00m\u001b[43m,\u001b[49m\u001b[43m \u001b[49m\u001b[43mstats\u001b[49m\u001b[38;5;241;43m=\u001b[39;49m\u001b[38;5;28;43;01mNone\u001b[39;49;00m\u001b[43m)\u001b[49m\n\u001b[0;32m     43\u001b[0m best_individual \u001b[38;5;241m=\u001b[39m tools\u001b[38;5;241m.\u001b[39mselBest(result, \u001b[38;5;241m1\u001b[39m)[\u001b[38;5;241m0\u001b[39m]\n\u001b[0;32m     44\u001b[0m \u001b[38;5;28mprint\u001b[39m(\u001b[38;5;124mf\u001b[39m\u001b[38;5;124m\"\u001b[39m\u001b[38;5;124mBest C: \u001b[39m\u001b[38;5;132;01m{\u001b[39;00mbest_individual[\u001b[38;5;241m0\u001b[39m]\u001b[38;5;132;01m}\u001b[39;00m\u001b[38;5;124m, Best Gamma:\u001b[39m\u001b[38;5;132;01m{\u001b[39;00mbest_individual[\u001b[38;5;241m1\u001b[39m]\u001b[38;5;132;01m}\u001b[39;00m\u001b[38;5;124m\"\u001b[39m)\n",
      "File \u001b[1;32md:\\Environment\\Anaconda\\envs\\huawei\\lib\\site-packages\\deap\\algorithms.py:168\u001b[0m, in \u001b[0;36meaSimple\u001b[1;34m(population, toolbox, cxpb, mutpb, ngen, stats, halloffame, verbose)\u001b[0m\n\u001b[0;32m    165\u001b[0m offspring \u001b[38;5;241m=\u001b[39m toolbox\u001b[38;5;241m.\u001b[39mselect(population, \u001b[38;5;28mlen\u001b[39m(population))\n\u001b[0;32m    167\u001b[0m \u001b[38;5;66;03m# Vary the pool of individuals\u001b[39;00m\n\u001b[1;32m--> 168\u001b[0m offspring \u001b[38;5;241m=\u001b[39m \u001b[43mvarAnd\u001b[49m\u001b[43m(\u001b[49m\u001b[43moffspring\u001b[49m\u001b[43m,\u001b[49m\u001b[43m \u001b[49m\u001b[43mtoolbox\u001b[49m\u001b[43m,\u001b[49m\u001b[43m \u001b[49m\u001b[43mcxpb\u001b[49m\u001b[43m,\u001b[49m\u001b[43m \u001b[49m\u001b[43mmutpb\u001b[49m\u001b[43m)\u001b[49m\n\u001b[0;32m    170\u001b[0m \u001b[38;5;66;03m# Evaluate the individuals with an invalid fitness\u001b[39;00m\n\u001b[0;32m    171\u001b[0m invalid_ind \u001b[38;5;241m=\u001b[39m [ind \u001b[38;5;28;01mfor\u001b[39;00m ind \u001b[38;5;129;01min\u001b[39;00m offspring \u001b[38;5;28;01mif\u001b[39;00m \u001b[38;5;129;01mnot\u001b[39;00m ind\u001b[38;5;241m.\u001b[39mfitness\u001b[38;5;241m.\u001b[39mvalid]\n",
      "File \u001b[1;32md:\\Environment\\Anaconda\\envs\\huawei\\lib\\site-packages\\deap\\algorithms.py:79\u001b[0m, in \u001b[0;36mvarAnd\u001b[1;34m(population, toolbox, cxpb, mutpb)\u001b[0m\n\u001b[0;32m     77\u001b[0m \u001b[38;5;28;01mfor\u001b[39;00m i \u001b[38;5;129;01min\u001b[39;00m \u001b[38;5;28mrange\u001b[39m(\u001b[38;5;28mlen\u001b[39m(offspring)):\n\u001b[0;32m     78\u001b[0m     \u001b[38;5;28;01mif\u001b[39;00m random\u001b[38;5;241m.\u001b[39mrandom() \u001b[38;5;241m<\u001b[39m mutpb:\n\u001b[1;32m---> 79\u001b[0m         offspring[i], \u001b[38;5;241m=\u001b[39m \u001b[43mtoolbox\u001b[49m\u001b[38;5;241;43m.\u001b[39;49m\u001b[43mmutate\u001b[49m\u001b[43m(\u001b[49m\u001b[43moffspring\u001b[49m\u001b[43m[\u001b[49m\u001b[43mi\u001b[49m\u001b[43m]\u001b[49m\u001b[43m)\u001b[49m\n\u001b[0;32m     80\u001b[0m         \u001b[38;5;28;01mdel\u001b[39;00m offspring[i]\u001b[38;5;241m.\u001b[39mfitness\u001b[38;5;241m.\u001b[39mvalues\n\u001b[0;32m     82\u001b[0m \u001b[38;5;28;01mreturn\u001b[39;00m offspring\n",
      "\u001b[1;31mTypeError\u001b[0m: mutGaussian() missing 1 required positional argument: 'sigma'"
     ]
    }
   ],
   "source": [
    "from sklearn.model_selection import train_test_split, cross_val_score\n",
    "from sklearn.svm import SVC\n",
    "from deap import base, creator, tools, algorithms\n",
    "\n",
    "selector = SelectKBest(f_classif, k=10)\n",
    "X_selected = selector.fit_transform(X_features, y)\n",
    "\n",
    "selected_features = X_features.columns[selector.get_support()]\n",
    "print(f\"Selected features: {selected_features}\")\n",
    "\n",
    "X_train, X_test, y_train, y_test = train_test_split(X_selected, y, test_size=0.2, random_state=42)\n",
    "\n",
    "creator.create(\"FitnessMax\", base.Fitness, weights=(1.0,))\n",
    "creator.create(\"Individual\", list, fitness=creator.FitnessMax)\n",
    "\n",
    "toolbox = base.Toolbox()\n",
    "toolbox.register(\"attr_float\", np.random.uniform, 0.1, 10.0)\n",
    "toolbox.register(\"individual\", tools.initRepeat, creator.Individual, toolbox.attr_float, 2)\n",
    "toolbox.register(\"population\", tools.initRepeat, list, toolbox.individual)\n",
    "\n",
    "def evalSVM(individual):\n",
    "    C, gamma = individual\n",
    "    model = SVC(C=C, gamma=gamma)\n",
    "    score = cross_val_score(model, X_train, y_train, cv=5).mean()\n",
    "    return score,\n",
    "\n",
    "\n",
    "toolbox.register(\"mate\", tools.cxBlend, alpha=0.5)\n",
    "toolbox.register(\"mutate\", tools.mutGaussian, mu=0, indpb=0.2)\n",
    "toolbox.register(\"select\", tools.selTournament, tournsize=3)\n",
    "toolbox.register(\"evaluate\",evalSVM)\n",
    "\n",
    "\n",
    "population = toolbox.population(n=20)\n",
    "NGEN = 10\n",
    "CXPB = 0.7\n",
    "MUTPB = 0.2\n",
    "\n",
    "\n",
    "result, logbook = algorithms.eaSimple(population, toolbox, cxpb=CXPB, mutpb=MUTPB, ngen=NGEN,\n",
    "verbose=True, stats=None)\n",
    "\n",
    "best_individual = tools.selBest(result, 1)[0]\n",
    "print(f\"Best C: {best_individual[0]}, Best Gamma:{best_individual[1]}\")\n",
    "\n",
    "\n",
    "best_model = SVC(C=best_individual[0], gamma=best_individual[1])\n",
    "best_model.fit(X_train, y_train)"
   ]
  }
 ],
 "metadata": {
  "kernelspec": {
   "display_name": "huawei",
   "language": "python",
   "name": "python3"
  },
  "language_info": {
   "codemirror_mode": {
    "name": "ipython",
    "version": 3
   },
   "file_extension": ".py",
   "mimetype": "text/x-python",
   "name": "python",
   "nbconvert_exporter": "python",
   "pygments_lexer": "ipython3",
   "version": "3.8.19"
  }
 },
 "nbformat": 4,
 "nbformat_minor": 2
}
